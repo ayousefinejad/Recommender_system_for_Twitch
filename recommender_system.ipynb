{
  "nbformat": 4,
  "nbformat_minor": 0,
  "metadata": {
    "colab": {
      "name": "MLchallengeBootCamp.ipynb",
      "provenance": [],
      "collapsed_sections": []
    },
    "kernelspec": {
      "name": "python3",
      "display_name": "Python 3"
    },
    "language_info": {
      "name": "python"
    },
    "accelerator": "GPU"
  },
  "cells": [
    {
      "cell_type": "markdown",
      "metadata": {
        "id": "Hsn0zWY-TtjJ"
      },
      "source": [
        "**Arshia Yousefinejad**\n",
        "\n",
        "Rahnema college machine learning Bootcamp challenge code winter 2022\n",
        "\n",
        "Update the code on 10 january "
      ]
    },
    {
      "cell_type": "code",
      "execution_count": null,
      "metadata": {
        "colab": {
          "base_uri": "https://localhost:8080/"
        },
        "id": "fhD0qnxEyaDg",
        "outputId": "7cdc88c3-0f1b-40bd-f593-7a3fd7898bb4"
      },
      "outputs": [
        {
          "output_type": "stream",
          "name": "stdout",
          "text": [
            "Mounted at /content/drive\n"
          ]
        }
      ],
      "source": [
        "from google.colab import drive\n",
        "drive.mount('/content/drive')"
      ]
    },
    {
      "cell_type": "code",
      "execution_count": null,
      "metadata": {
        "id": "Y3RPu2y2t1Nr"
      },
      "outputs": [],
      "source": [
        "!pip install category-encoders"
      ]
    },
    {
      "cell_type": "code",
      "execution_count": null,
      "metadata": {
        "cellView": "code",
        "colab": {
          "base_uri": "https://localhost:8080/"
        },
        "id": "TxuNdEH3ybZg",
        "outputId": "6588af09-f912-4dfb-dcad-d8836eecfe86"
      },
      "outputs": [
        {
          "output_type": "stream",
          "name": "stderr",
          "text": [
            "/usr/local/lib/python3.7/dist-packages/statsmodels/tools/_testing.py:19: FutureWarning: pandas.util.testing is deprecated. Use the functions in the public API at pandas.testing instead.\n",
            "  import pandas.util.testing as tm\n"
          ]
        }
      ],
      "source": [
        "import os\n",
        "import pprint\n",
        "import tempfile\n",
        "\n",
        "import numpy as np\n",
        "import pandas as pd\n",
        "import matplotlib.pyplot as plt\n",
        "import seaborn as sns\n",
        "\n",
        "import category_encoders as ce\n",
        "\n",
        "import tensorflow as tf\n",
        "from tensorflow import keras\n",
        "from tensorflow.keras import layers\n",
        "from pathlib import Path\n",
        "\n",
        "from sklearn.model_selection import train_test_split"
      ]
    },
    {
      "cell_type": "code",
      "execution_count": null,
      "metadata": {
        "cellView": "code",
        "id": "lk_SifYHys9-"
      },
      "outputs": [],
      "source": [
        "data = pd.read_csv(\"./drive/MyDrive/Rahnema_college/100k_a.csv\", names=['user_id', 'stream_id', 'streamer_name', 'start_time', 'stop_time'])\n",
        "dataset = data.copy()\n"
      ]
    },
    {
      "cell_type": "markdown",
      "source": [
        "## Preprocessing on dataset"
      ],
      "metadata": {
        "id": "lzN6a5mrc3fw"
      }
    },
    {
      "cell_type": "markdown",
      "metadata": {
        "id": "G5v_cItvw_6s"
      },
      "source": [
        "For train the model I needed \"rating\" column.for create \"rating\" column I extracted some features ( include time_spend, time_spend_count and time_Spend_mean )\n",
        "\n",
        "\n",
        "*   **time_spend** = how long the user was in the chat\n",
        "*   **time_spend_mean** = Average times the user spends in the streamer chat\n",
        "*   **time_spend_count** = Number of times that user seen in the streamer chat\n",
        "\n",
        "\n",
        "I used groupby operation for extract time_spend_count and time_spend_mean features.\n",
        "\n",
        "And then for create \"rating\" column, I multiplied the columns of time_spend_mean and time_spend_count together.\n",
        "*   **Rating** = time_spend_count * time_spend_mean\n",
        "\n",
        "This process reduce the amount of row from 3051733 to 1505158\n",
        "\n"
      ]
    },
    {
      "cell_type": "markdown",
      "source": [
        "**Note :** \"Rating\" means user interest rate than streamer channel"
      ],
      "metadata": {
        "id": "p5V_caSrBHku"
      }
    },
    {
      "cell_type": "code",
      "execution_count": null,
      "metadata": {
        "id": "ghF50tsnAqm3"
      },
      "outputs": [],
      "source": [
        "# create time spend column\n",
        "dataset['time_spend'] = dataset['stop_time'] - dataset['start_time']\n",
        "\n",
        "# drop stream_id becuase not useful !!! and also start time and stop time\n",
        "dataset.drop(['stream_id', 'start_time', 'stop_time'],axis=1, inplace=True)\n",
        "\n",
        "# copy streamers name to column 'streamer_name_copy'\n",
        "dataset['streamer_name_copy'] = dataset['streamer_name']"
      ]
    },
    {
      "cell_type": "code",
      "execution_count": null,
      "metadata": {
        "id": "h8QaOaD_p67m"
      },
      "outputs": [],
      "source": [
        "# encode streamer_name\n",
        "encoder= ce.OrdinalEncoder(cols=['streamer_name'],return_df=True)\n",
        "dataset = encoder.fit_transform(dataset)\n",
        "\n",
        "# rename streamer_name to streamer_id and streamer_name_copy to streamer_name\n",
        "dataset.rename(columns={'streamer_name': 'streamer_id'}, inplace=True)\n",
        "dataset.rename(columns={'streamer_name_copy': 'streamer_name'}, inplace=True)\n",
        "\n",
        "df = dataset.copy()\n",
        "df.drop(['streamer_name'], axis=1, inplace=True)"
      ]
    },
    {
      "cell_type": "code",
      "execution_count": null,
      "metadata": {
        "id": "7W0_q_q9Q-sM"
      },
      "outputs": [],
      "source": [
        "grouped = df.groupby(['user_id', 'streamer_id']).time_spend.agg(['count','mean'])\n",
        "grouped.rename(columns={'count': 'time_spend_count', 'mean': 'time_spend_mean'}, inplace=True)\n",
        "df_new = grouped.reset_index()\n",
        "\n",
        "# create rating column\n",
        "df_new['rating'] = df_new.time_spend_count * df_new.time_spend_mean\n",
        "\n",
        "df_new.drop(['time_spend_count', 'time_spend_mean'], axis=1, inplace=True)\n",
        "df = df_new.copy()"
      ]
    },
    {
      "cell_type": "code",
      "execution_count": null,
      "metadata": {
        "colab": {
          "base_uri": "https://localhost:8080/"
        },
        "id": "x08IWsKaP6NJ",
        "outputId": "4274ad56-25bd-4299-c9fb-b023ed288023"
      },
      "outputs": [
        {
          "output_type": "stream",
          "name": "stdout",
          "text": [
            "dataset's row befor process :  3051733\n",
            "dataset's row after process :  1505158\n"
          ]
        }
      ],
      "source": [
        "print(\"dataset's row befor process : \", dataset.shape[0])\n",
        "print(\"dataset's row after process : \", df.shape[0])"
      ]
    },
    {
      "cell_type": "markdown",
      "source": [
        "The \"rating\" column was created :)"
      ],
      "metadata": {
        "id": "8CwSTRZ7SrwE"
      }
    },
    {
      "cell_type": "code",
      "source": [
        "df.head(5)"
      ],
      "metadata": {
        "colab": {
          "base_uri": "https://localhost:8080/",
          "height": 206
        },
        "id": "A2YI93bCHmaf",
        "outputId": "810cb64f-246b-48a2-bf52-0fa688726083"
      },
      "execution_count": null,
      "outputs": [
        {
          "output_type": "execute_result",
          "data": {
            "text/html": [
              "\n",
              "  <div id=\"df-cb2aaeea-d3bb-4bb8-afd4-afb820c78f5d\">\n",
              "    <div class=\"colab-df-container\">\n",
              "      <div>\n",
              "<style scoped>\n",
              "    .dataframe tbody tr th:only-of-type {\n",
              "        vertical-align: middle;\n",
              "    }\n",
              "\n",
              "    .dataframe tbody tr th {\n",
              "        vertical-align: top;\n",
              "    }\n",
              "\n",
              "    .dataframe thead th {\n",
              "        text-align: right;\n",
              "    }\n",
              "</style>\n",
              "<table border=\"1\" class=\"dataframe\">\n",
              "  <thead>\n",
              "    <tr style=\"text-align: right;\">\n",
              "      <th></th>\n",
              "      <th>user_id</th>\n",
              "      <th>streamer_id</th>\n",
              "      <th>rating</th>\n",
              "    </tr>\n",
              "  </thead>\n",
              "  <tbody>\n",
              "    <tr>\n",
              "      <th>0</th>\n",
              "      <td>1</td>\n",
              "      <td>1</td>\n",
              "      <td>10.0</td>\n",
              "    </tr>\n",
              "    <tr>\n",
              "      <th>1</th>\n",
              "      <td>1</td>\n",
              "      <td>2</td>\n",
              "      <td>3.0</td>\n",
              "    </tr>\n",
              "    <tr>\n",
              "      <th>2</th>\n",
              "      <td>1</td>\n",
              "      <td>3</td>\n",
              "      <td>11.0</td>\n",
              "    </tr>\n",
              "    <tr>\n",
              "      <th>3</th>\n",
              "      <td>1</td>\n",
              "      <td>4</td>\n",
              "      <td>4.0</td>\n",
              "    </tr>\n",
              "    <tr>\n",
              "      <th>4</th>\n",
              "      <td>1</td>\n",
              "      <td>5</td>\n",
              "      <td>3.0</td>\n",
              "    </tr>\n",
              "  </tbody>\n",
              "</table>\n",
              "</div>\n",
              "      <button class=\"colab-df-convert\" onclick=\"convertToInteractive('df-cb2aaeea-d3bb-4bb8-afd4-afb820c78f5d')\"\n",
              "              title=\"Convert this dataframe to an interactive table.\"\n",
              "              style=\"display:none;\">\n",
              "        \n",
              "  <svg xmlns=\"http://www.w3.org/2000/svg\" height=\"24px\"viewBox=\"0 0 24 24\"\n",
              "       width=\"24px\">\n",
              "    <path d=\"M0 0h24v24H0V0z\" fill=\"none\"/>\n",
              "    <path d=\"M18.56 5.44l.94 2.06.94-2.06 2.06-.94-2.06-.94-.94-2.06-.94 2.06-2.06.94zm-11 1L8.5 8.5l.94-2.06 2.06-.94-2.06-.94L8.5 2.5l-.94 2.06-2.06.94zm10 10l.94 2.06.94-2.06 2.06-.94-2.06-.94-.94-2.06-.94 2.06-2.06.94z\"/><path d=\"M17.41 7.96l-1.37-1.37c-.4-.4-.92-.59-1.43-.59-.52 0-1.04.2-1.43.59L10.3 9.45l-7.72 7.72c-.78.78-.78 2.05 0 2.83L4 21.41c.39.39.9.59 1.41.59.51 0 1.02-.2 1.41-.59l7.78-7.78 2.81-2.81c.8-.78.8-2.07 0-2.86zM5.41 20L4 18.59l7.72-7.72 1.47 1.35L5.41 20z\"/>\n",
              "  </svg>\n",
              "      </button>\n",
              "      \n",
              "  <style>\n",
              "    .colab-df-container {\n",
              "      display:flex;\n",
              "      flex-wrap:wrap;\n",
              "      gap: 12px;\n",
              "    }\n",
              "\n",
              "    .colab-df-convert {\n",
              "      background-color: #E8F0FE;\n",
              "      border: none;\n",
              "      border-radius: 50%;\n",
              "      cursor: pointer;\n",
              "      display: none;\n",
              "      fill: #1967D2;\n",
              "      height: 32px;\n",
              "      padding: 0 0 0 0;\n",
              "      width: 32px;\n",
              "    }\n",
              "\n",
              "    .colab-df-convert:hover {\n",
              "      background-color: #E2EBFA;\n",
              "      box-shadow: 0px 1px 2px rgba(60, 64, 67, 0.3), 0px 1px 3px 1px rgba(60, 64, 67, 0.15);\n",
              "      fill: #174EA6;\n",
              "    }\n",
              "\n",
              "    [theme=dark] .colab-df-convert {\n",
              "      background-color: #3B4455;\n",
              "      fill: #D2E3FC;\n",
              "    }\n",
              "\n",
              "    [theme=dark] .colab-df-convert:hover {\n",
              "      background-color: #434B5C;\n",
              "      box-shadow: 0px 1px 3px 1px rgba(0, 0, 0, 0.15);\n",
              "      filter: drop-shadow(0px 1px 2px rgba(0, 0, 0, 0.3));\n",
              "      fill: #FFFFFF;\n",
              "    }\n",
              "  </style>\n",
              "\n",
              "      <script>\n",
              "        const buttonEl =\n",
              "          document.querySelector('#df-cb2aaeea-d3bb-4bb8-afd4-afb820c78f5d button.colab-df-convert');\n",
              "        buttonEl.style.display =\n",
              "          google.colab.kernel.accessAllowed ? 'block' : 'none';\n",
              "\n",
              "        async function convertToInteractive(key) {\n",
              "          const element = document.querySelector('#df-cb2aaeea-d3bb-4bb8-afd4-afb820c78f5d');\n",
              "          const dataTable =\n",
              "            await google.colab.kernel.invokeFunction('convertToInteractive',\n",
              "                                                     [key], {});\n",
              "          if (!dataTable) return;\n",
              "\n",
              "          const docLinkHtml = 'Like what you see? Visit the ' +\n",
              "            '<a target=\"_blank\" href=https://colab.research.google.com/notebooks/data_table.ipynb>data table notebook</a>'\n",
              "            + ' to learn more about interactive tables.';\n",
              "          element.innerHTML = '';\n",
              "          dataTable['output_type'] = 'display_data';\n",
              "          await google.colab.output.renderOutput(dataTable, element);\n",
              "          const docLink = document.createElement('div');\n",
              "          docLink.innerHTML = docLinkHtml;\n",
              "          element.appendChild(docLink);\n",
              "        }\n",
              "      </script>\n",
              "    </div>\n",
              "  </div>\n",
              "  "
            ],
            "text/plain": [
              "   user_id  streamer_id  rating\n",
              "0        1            1    10.0\n",
              "1        1            2     3.0\n",
              "2        1            3    11.0\n",
              "3        1            4     4.0\n",
              "4        1            5     3.0"
            ]
          },
          "metadata": {},
          "execution_count": 9
        }
      ]
    },
    {
      "cell_type": "markdown",
      "source": [
        "Preform preprocess on \"rating\" column\n",
        "\n",
        "To solve the problem of \"rating\" column's data scatter, I used the percentile\n",
        "\n",
        "By doing this, \"rating\" column's data includes numbers one, two, three, four and five"
      ],
      "metadata": {
        "id": "8ZOTA3BWS2GF"
      }
    },
    {
      "cell_type": "code",
      "execution_count": null,
      "metadata": {
        "id": "KfxB1GklGQUm"
      },
      "outputs": [],
      "source": [
        "percentiles_numbers = df['rating'].quantile([0.2, 0.4, 0.6 , 0.8]).tolist()\n",
        "\n",
        "def update_rating_col(row):\n",
        "  if row.rating <= percentiles_numbers[0]:\n",
        "    row.rating = 1\n",
        "  elif percentiles_numbers[0] < row.rating <= percentiles_numbers[1]:\n",
        "    row.rating = 2\n",
        "  elif percentiles_numbers[1] < row.rating <= percentiles_numbers[2]:\n",
        "    row.rating = 3\n",
        "  elif percentiles_numbers[2] < row.rating <= percentiles_numbers[3]:\n",
        "    row.rating = 4\n",
        "  else:\n",
        "    row.rating = 5\n",
        "\n",
        "  return row\n",
        "df = df.apply(update_rating_col, axis='columns')"
      ]
    },
    {
      "cell_type": "code",
      "source": [
        "df.head(5)"
      ],
      "metadata": {
        "colab": {
          "base_uri": "https://localhost:8080/",
          "height": 206
        },
        "id": "P68XRIpJPe2V",
        "outputId": "764a2578-c0b4-42f6-c6a2-eaf90ad53f39"
      },
      "execution_count": null,
      "outputs": [
        {
          "output_type": "execute_result",
          "data": {
            "text/html": [
              "\n",
              "  <div id=\"df-1eca7faa-4479-48ce-ac96-7f3f62a77447\">\n",
              "    <div class=\"colab-df-container\">\n",
              "      <div>\n",
              "<style scoped>\n",
              "    .dataframe tbody tr th:only-of-type {\n",
              "        vertical-align: middle;\n",
              "    }\n",
              "\n",
              "    .dataframe tbody tr th {\n",
              "        vertical-align: top;\n",
              "    }\n",
              "\n",
              "    .dataframe thead th {\n",
              "        text-align: right;\n",
              "    }\n",
              "</style>\n",
              "<table border=\"1\" class=\"dataframe\">\n",
              "  <thead>\n",
              "    <tr style=\"text-align: right;\">\n",
              "      <th></th>\n",
              "      <th>user_id</th>\n",
              "      <th>streamer_id</th>\n",
              "      <th>rating</th>\n",
              "    </tr>\n",
              "  </thead>\n",
              "  <tbody>\n",
              "    <tr>\n",
              "      <th>0</th>\n",
              "      <td>1.0</td>\n",
              "      <td>1.0</td>\n",
              "      <td>5.0</td>\n",
              "    </tr>\n",
              "    <tr>\n",
              "      <th>1</th>\n",
              "      <td>1.0</td>\n",
              "      <td>2.0</td>\n",
              "      <td>3.0</td>\n",
              "    </tr>\n",
              "    <tr>\n",
              "      <th>2</th>\n",
              "      <td>1.0</td>\n",
              "      <td>3.0</td>\n",
              "      <td>5.0</td>\n",
              "    </tr>\n",
              "    <tr>\n",
              "      <th>3</th>\n",
              "      <td>1.0</td>\n",
              "      <td>4.0</td>\n",
              "      <td>4.0</td>\n",
              "    </tr>\n",
              "    <tr>\n",
              "      <th>4</th>\n",
              "      <td>1.0</td>\n",
              "      <td>5.0</td>\n",
              "      <td>3.0</td>\n",
              "    </tr>\n",
              "  </tbody>\n",
              "</table>\n",
              "</div>\n",
              "      <button class=\"colab-df-convert\" onclick=\"convertToInteractive('df-1eca7faa-4479-48ce-ac96-7f3f62a77447')\"\n",
              "              title=\"Convert this dataframe to an interactive table.\"\n",
              "              style=\"display:none;\">\n",
              "        \n",
              "  <svg xmlns=\"http://www.w3.org/2000/svg\" height=\"24px\"viewBox=\"0 0 24 24\"\n",
              "       width=\"24px\">\n",
              "    <path d=\"M0 0h24v24H0V0z\" fill=\"none\"/>\n",
              "    <path d=\"M18.56 5.44l.94 2.06.94-2.06 2.06-.94-2.06-.94-.94-2.06-.94 2.06-2.06.94zm-11 1L8.5 8.5l.94-2.06 2.06-.94-2.06-.94L8.5 2.5l-.94 2.06-2.06.94zm10 10l.94 2.06.94-2.06 2.06-.94-2.06-.94-.94-2.06-.94 2.06-2.06.94z\"/><path d=\"M17.41 7.96l-1.37-1.37c-.4-.4-.92-.59-1.43-.59-.52 0-1.04.2-1.43.59L10.3 9.45l-7.72 7.72c-.78.78-.78 2.05 0 2.83L4 21.41c.39.39.9.59 1.41.59.51 0 1.02-.2 1.41-.59l7.78-7.78 2.81-2.81c.8-.78.8-2.07 0-2.86zM5.41 20L4 18.59l7.72-7.72 1.47 1.35L5.41 20z\"/>\n",
              "  </svg>\n",
              "      </button>\n",
              "      \n",
              "  <style>\n",
              "    .colab-df-container {\n",
              "      display:flex;\n",
              "      flex-wrap:wrap;\n",
              "      gap: 12px;\n",
              "    }\n",
              "\n",
              "    .colab-df-convert {\n",
              "      background-color: #E8F0FE;\n",
              "      border: none;\n",
              "      border-radius: 50%;\n",
              "      cursor: pointer;\n",
              "      display: none;\n",
              "      fill: #1967D2;\n",
              "      height: 32px;\n",
              "      padding: 0 0 0 0;\n",
              "      width: 32px;\n",
              "    }\n",
              "\n",
              "    .colab-df-convert:hover {\n",
              "      background-color: #E2EBFA;\n",
              "      box-shadow: 0px 1px 2px rgba(60, 64, 67, 0.3), 0px 1px 3px 1px rgba(60, 64, 67, 0.15);\n",
              "      fill: #174EA6;\n",
              "    }\n",
              "\n",
              "    [theme=dark] .colab-df-convert {\n",
              "      background-color: #3B4455;\n",
              "      fill: #D2E3FC;\n",
              "    }\n",
              "\n",
              "    [theme=dark] .colab-df-convert:hover {\n",
              "      background-color: #434B5C;\n",
              "      box-shadow: 0px 1px 3px 1px rgba(0, 0, 0, 0.15);\n",
              "      filter: drop-shadow(0px 1px 2px rgba(0, 0, 0, 0.3));\n",
              "      fill: #FFFFFF;\n",
              "    }\n",
              "  </style>\n",
              "\n",
              "      <script>\n",
              "        const buttonEl =\n",
              "          document.querySelector('#df-1eca7faa-4479-48ce-ac96-7f3f62a77447 button.colab-df-convert');\n",
              "        buttonEl.style.display =\n",
              "          google.colab.kernel.accessAllowed ? 'block' : 'none';\n",
              "\n",
              "        async function convertToInteractive(key) {\n",
              "          const element = document.querySelector('#df-1eca7faa-4479-48ce-ac96-7f3f62a77447');\n",
              "          const dataTable =\n",
              "            await google.colab.kernel.invokeFunction('convertToInteractive',\n",
              "                                                     [key], {});\n",
              "          if (!dataTable) return;\n",
              "\n",
              "          const docLinkHtml = 'Like what you see? Visit the ' +\n",
              "            '<a target=\"_blank\" href=https://colab.research.google.com/notebooks/data_table.ipynb>data table notebook</a>'\n",
              "            + ' to learn more about interactive tables.';\n",
              "          element.innerHTML = '';\n",
              "          dataTable['output_type'] = 'display_data';\n",
              "          await google.colab.output.renderOutput(dataTable, element);\n",
              "          const docLink = document.createElement('div');\n",
              "          docLink.innerHTML = docLinkHtml;\n",
              "          element.appendChild(docLink);\n",
              "        }\n",
              "      </script>\n",
              "    </div>\n",
              "  </div>\n",
              "  "
            ],
            "text/plain": [
              "   user_id  streamer_id  rating\n",
              "0      1.0          1.0     5.0\n",
              "1      1.0          2.0     3.0\n",
              "2      1.0          3.0     5.0\n",
              "3      1.0          4.0     4.0\n",
              "4      1.0          5.0     3.0"
            ]
          },
          "metadata": {},
          "execution_count": 11
        }
      ]
    },
    {
      "cell_type": "code",
      "execution_count": null,
      "metadata": {
        "colab": {
          "base_uri": "https://localhost:8080/"
        },
        "id": "Dv_8EDMj4yfv",
        "outputId": "787df6ca-c77e-403a-e736-a9e94d719487"
      },
      "outputs": [
        {
          "output_type": "stream",
          "name": "stdout",
          "text": [
            "Number of users: 100000, Number of Streamers: 162625, Min rating: 1.0, Max rating: 5.0\n"
          ]
        }
      ],
      "source": [
        "# create columns \"user\" and \"streamer\" that Starting user_id numbers and stream_id numbers from zero ( becuase this numbers starting from one )\n",
        "user_ids = df[\"user_id\"].unique().tolist()\n",
        "user2user_encoded = {x: i for i, x in enumerate(user_ids)}\n",
        "userencoded2user = {i: x for i, x in enumerate(user_ids)}\n",
        "streamer_ids = df[\"streamer_id\"].unique().tolist()\n",
        "streamer2streamer_encoded = {x: i for i, x in enumerate(streamer_ids)}\n",
        "streamer_encoded2streamer = {i: x for i, x in enumerate(streamer_ids)}\n",
        "df[\"user\"] = df[\"user_id\"].map(user2user_encoded)\n",
        "df[\"streamer\"] = df[\"streamer_id\"].map(streamer2streamer_encoded)\n",
        "\n",
        "num_users = len(user2user_encoded)\n",
        "num_streamers = len(streamer_encoded2streamer)\n",
        "\n",
        "df[\"rating\"] = df[\"rating\"].values.astype(np.float32)\n",
        "\n",
        "# min and max ratings will be used to normalize the ratings later\n",
        "min_rating = min(df[\"rating\"])\n",
        "max_rating = max(df[\"rating\"])\n",
        "\n",
        "print(\n",
        "    \"Number of users: {}, Number of Streamers: {}, Min rating: {}, Max rating: {}\".format(\n",
        "        num_users, num_streamers, min_rating, max_rating\n",
        "    )\n",
        ")\n"
      ]
    },
    {
      "cell_type": "markdown",
      "metadata": {
        "id": "PN33iK7NqwHU"
      },
      "source": [
        "## Prepare training and validation data"
      ]
    },
    {
      "cell_type": "code",
      "execution_count": null,
      "metadata": {
        "id": "nqZLPhox5ykR"
      },
      "outputs": [],
      "source": [
        "# shuffle df\n",
        "df = df.sample(frac=1, random_state=42)\n",
        "\n",
        "x = df[[\"user\", \"streamer\"]].values\n",
        "# Normalize the targets between 0 and 1. Makes it easy to train.\n",
        "y = df[\"rating\"].apply(lambda x: (x - min_rating) / (max_rating - min_rating)).values\n",
        "# Assuming training on 80% of the data.\n",
        "x_train, x_rem, y_train, y_rem = train_test_split(x, y, test_size=0.2, random_state=42)\n",
        "# Assuming testing on 10% of the data and validation 10%\n",
        "x_test, x_val, y_test, y_val = train_test_split(x_rem, y_rem, test_size=0.5, random_state=42)"
      ]
    },
    {
      "cell_type": "markdown",
      "metadata": {
        "id": "vOtOJwAApQsF"
      },
      "source": [
        "## Create the model"
      ]
    },
    {
      "cell_type": "code",
      "execution_count": null,
      "metadata": {
        "colab": {
          "base_uri": "https://localhost:8080/"
        },
        "id": "NP0uyKx46TP_",
        "outputId": "dfcbe114-36a0-4c58-a787-8426cf39ad27"
      },
      "outputs": [
        {
          "output_type": "stream",
          "name": "stderr",
          "text": [
            "/usr/local/lib/python3.7/dist-packages/keras/optimizer_v2/adam.py:105: UserWarning: The `lr` argument is deprecated, use `learning_rate` instead.\n",
            "  super(Adam, self).__init__(name, **kwargs)\n"
          ]
        }
      ],
      "source": [
        "'''The model computes a match score between user and movie embeddings via a dot product,\n",
        "   and adds a per-movie and per-user bias.\n",
        "    The match score is scaled to the [0, 1] interval via a sigmoid (since our ratings are normalized to this range).'''\n",
        "\n",
        "EMBEDDING_SIZE = 32\n",
        "class RecommenderNet(keras.Model):\n",
        "    def __init__(self, num_users, num_streamers, embedding_size, **kwargs):\n",
        "        super(RecommenderNet, self).__init__(**kwargs)\n",
        "        self.num_users = num_users\n",
        "        self.num_streamers = num_streamers\n",
        "        self.embedding_size = embedding_size\n",
        "        self.user_embedding = layers.Embedding(\n",
        "            num_users,\n",
        "            embedding_size,\n",
        "            embeddings_initializer=\"he_normal\",\n",
        "            embeddings_regularizer=keras.regularizers.l2(1e-6),\n",
        "        )\n",
        "        self.user_bias = layers.Embedding(num_users, 1)\n",
        "        self.streamer_embedding = layers.Embedding(\n",
        "            num_streamers,\n",
        "            embedding_size,\n",
        "            embeddings_initializer=\"he_normal\",\n",
        "            embeddings_regularizer=keras.regularizers.l2(1e-6),\n",
        "        )\n",
        "        self.streamer_bias = layers.Embedding(num_streamers, 1)\n",
        "\n",
        "    def call(self, inputs):\n",
        "        user_vector = self.user_embedding(inputs[:, 0])\n",
        "        user_bias = self.user_bias(inputs[:, 0])\n",
        "        streamer_vector = self.streamer_embedding(inputs[:, 1])\n",
        "        streamer_bias = self.streamer_bias(inputs[:, 1])\n",
        "        dot_user_streamer = tf.tensordot(user_vector, streamer_vector, 2)\n",
        "        # Add all the components (including bias)\n",
        "        x = dot_user_streamer + user_bias + streamer_bias\n",
        "        # The sigmoid activation forces the rating to between 0 and 1\n",
        "        return tf.nn.sigmoid(x)\n",
        "\n",
        "\n",
        "model = RecommenderNet(num_users, num_streamers, EMBEDDING_SIZE)\n",
        "# Use optimizer Adam, loss MSE, metrics RMSE\n",
        "model.compile(\n",
        "    optimizer=keras.optimizers.Adam(lr=0.01),\n",
        "    loss=tf.keras.losses.MeanSquaredError(),\n",
        "    metrics=tf.keras.metrics.RootMeanSquaredError()\n",
        ")"
      ]
    },
    {
      "cell_type": "markdown",
      "metadata": {
        "id": "nUHy3FAJpWf4"
      },
      "source": [
        "## Train and save the model"
      ]
    },
    {
      "cell_type": "code",
      "execution_count": null,
      "metadata": {
        "colab": {
          "base_uri": "https://localhost:8080/"
        },
        "id": "gUFIwjbS8Vem",
        "outputId": "bbecb380-7988-4a4f-b3d4-a0bca9b379de"
      },
      "outputs": [
        {
          "output_type": "stream",
          "name": "stdout",
          "text": [
            "Epoch 1/3\n",
            "18815/18815 [==============================] - 1440s 76ms/step - loss: 0.6400 - root_mean_squared_error: 0.5852 - val_loss: 0.6945 - val_root_mean_squared_error: 0.5952\n",
            "Epoch 2/3\n",
            "18815/18815 [==============================] - 1442s 77ms/step - loss: 0.6493 - root_mean_squared_error: 0.5865 - val_loss: 0.6648 - val_root_mean_squared_error: 0.5884\n",
            "Epoch 3/3\n",
            "18815/18815 [==============================] - 1444s 77ms/step - loss: 0.6323 - root_mean_squared_error: 0.5794 - val_loss: 0.6533 - val_root_mean_squared_error: 0.5841\n"
          ]
        }
      ],
      "source": [
        "history = model.fit(\n",
        "    x=x_train,\n",
        "    y=y_train,\n",
        "    batch_size=64,\n",
        "    epochs=3,\n",
        "    verbose=1,\n",
        "    validation_data=(x_val, y_val),\n",
        ")"
      ]
    },
    {
      "cell_type": "markdown",
      "metadata": {
        "id": "ZT46IdBIk4G5"
      },
      "source": [
        "## Plot training and validation loss\n"
      ]
    },
    {
      "cell_type": "code",
      "execution_count": null,
      "metadata": {
        "colab": {
          "base_uri": "https://localhost:8080/",
          "height": 295
        },
        "id": "4c2NIfeb8aEX",
        "outputId": "cbe96e38-4aad-4aae-fdae-025dd3baec59"
      },
      "outputs": [
        {
          "output_type": "display_data",
          "data": {
            "image/png": "[encoded data removed]",
            "text/plain": [
              "<Figure size 432x288 with 1 Axes>"
            ]
          },
          "metadata": {}
        }
      ],
      "source": [
        "plt.style.use('dark_background')\n",
        "\n",
        "plt.plot(history.history[\"loss\"])\n",
        "plt.plot(history.history[\"val_loss\"])\n",
        "plt.title(\"model loss\")\n",
        "plt.ylabel(\"loss\")\n",
        "plt.xlabel(\"epoch\")\n",
        "plt.legend([\"train\", \"test\"], loc=\"upper left\")\n",
        "plt.show()"
      ]
    },
    {
      "cell_type": "markdown",
      "metadata": {
        "id": "ry0IDziUCGJn"
      },
      "source": [
        "## Evaluate the model"
      ]
    },
    {
      "cell_type": "code",
      "execution_count": null,
      "metadata": {
        "colab": {
          "base_uri": "https://localhost:8080/"
        },
        "id": "Z38TV-n0CJ7e",
        "outputId": "7be0804d-bb46-48dc-9c4e-07632e4c5dad"
      },
      "outputs": [
        {
          "output_type": "stream",
          "name": "stdout",
          "text": [
            "4704/4704 [==============================] - 84s 18ms/step - loss: 0.6378 - root_mean_squared_error: 0.5707\n"
          ]
        },
        {
          "output_type": "execute_result",
          "data": {
            "text/plain": [
              "[0.6377769112586975, 0.5706755518913269]"
            ]
          },
          "metadata": {},
          "execution_count": 17
        }
      ],
      "source": [
        "model.evaluate(x_test, y_test)"
      ]
    },
    {
      "cell_type": "code",
      "execution_count": null,
      "metadata": {
        "colab": {
          "base_uri": "https://localhost:8080/"
        },
        "id": "rtdFfjHwLw6H",
        "outputId": "22a52264-0b9b-4ffd-c4ed-4facf08374f6"
      },
      "outputs": [
        {
          "output_type": "stream",
          "name": "stdout",
          "text": [
            "[0.658729] 0.5\n",
            "[0.0221929] 1.0\n",
            "[0.28403875] 1.0\n",
            "[0.9165152] 1.0\n",
            "[0.01188853] 0.0\n",
            "[0.7014334] 0.0\n",
            "[0.9999972] 1.0\n",
            "[0.04651526] 0.0\n",
            "[0.16450796] 0.75\n",
            "[0.00033048] 0.0\n"
          ]
        },
        {
          "output_type": "execute_result",
          "data": {
            "text/plain": [
              "[None, None, None, None, None, None, None, None, None, None]"
            ]
          },
          "metadata": {},
          "execution_count": 19
        }
      ],
      "source": [
        "pred = model.predict(x_test[:10])\n",
        "[print(pred[i], y_test[i]) for i in range(0, 10)]"
      ]
    }
  ]
}
